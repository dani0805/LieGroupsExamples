{
 "cells": [
  {
   "cell_type": "markdown",
   "source": [
    "## Rotations\n",
    "A few example of SO(3) and SU(2)\n",
    "### SO(3) Euler angles"
   ],
   "metadata": {
    "collapsed": false,
    "pycharm": {
     "name": "#%% md\n"
    }
   }
  },
  {
   "cell_type": "code",
   "execution_count": 44,
   "metadata": {
    "collapsed": true
   },
   "outputs": [],
   "source": [
    "from sympy.interactive.printing import init_printing\n",
    "init_printing(use_unicode=False, wrap_line=False)\n",
    "from sympy.matrices import Matrix, eye, zeros, ones, diag, GramSchmidt\n",
    "from sympy import *\n",
    "alpha, theta, phi = symbols('𝛼 𝜃 𝜑')\n",
    "R_alpha =  Matrix([[1,0,0], [0, cos(alpha), sin(alpha)], [0, -sin(alpha), cos(alpha)]])\n",
    "R_theta =  Matrix([[cos(theta),0, -sin(theta)], [0,1,0], [sin(theta),0,cos(theta)]])\n",
    "R_phi = Matrix([[cos(phi),sin(phi),0], [-sin(phi),cos(phi),0], [0,0,1]])\n",
    "R = R_phi * R_theta * R_alpha"
   ]
  },
  {
   "cell_type": "code",
   "execution_count": 43,
   "outputs": [
    {
     "data": {
      "text/plain": "[1     0       0   ]\n[                  ]\n[0  cos(𝛼)   sin(𝛼)]\n[                  ]\n[0  -sin(𝛼)  cos(𝛼)]",
      "text/latex": "$\\displaystyle \\left[\\begin{matrix}1 & 0 & 0\\\\0 & \\cos{\\left(𝛼 \\right)} & \\sin{\\left(𝛼 \\right)}\\\\0 & - \\sin{\\left(𝛼 \\right)} & \\cos{\\left(𝛼 \\right)}\\end{matrix}\\right]$"
     },
     "execution_count": 43,
     "metadata": {},
     "output_type": "execute_result"
    }
   ],
   "source": [
    "R_alpha"
   ],
   "metadata": {
    "collapsed": false,
    "pycharm": {
     "name": "#%%\n"
    }
   }
  },
  {
   "cell_type": "code",
   "execution_count": 31,
   "outputs": [
    {
     "data": {
      "text/plain": "[cos(𝜃)  0  -sin(𝜃)]\n[                  ]\n[  0     1     0   ]\n[                  ]\n[sin(𝜃)  0  cos(𝜃) ]",
      "text/latex": "$\\displaystyle \\left[\\begin{matrix}\\cos{\\left(𝜃 \\right)} & 0 & - \\sin{\\left(𝜃 \\right)}\\\\0 & 1 & 0\\\\\\sin{\\left(𝜃 \\right)} & 0 & \\cos{\\left(𝜃 \\right)}\\end{matrix}\\right]$"
     },
     "execution_count": 31,
     "metadata": {},
     "output_type": "execute_result"
    }
   ],
   "source": [
    "R_theta"
   ],
   "metadata": {
    "collapsed": false,
    "pycharm": {
     "name": "#%%\n"
    }
   }
  },
  {
   "cell_type": "code",
   "execution_count": 32,
   "outputs": [
    {
     "data": {
      "text/plain": "[cos(𝜑)   sin(𝜑)  0]\n[                  ]\n[-sin(𝜑)  cos(𝜑)  0]\n[                  ]\n[   0       0     1]",
      "text/latex": "$\\displaystyle \\left[\\begin{matrix}\\cos{\\left(𝜑 \\right)} & \\sin{\\left(𝜑 \\right)} & 0\\\\- \\sin{\\left(𝜑 \\right)} & \\cos{\\left(𝜑 \\right)} & 0\\\\0 & 0 & 1\\end{matrix}\\right]$"
     },
     "execution_count": 32,
     "metadata": {},
     "output_type": "execute_result"
    }
   ],
   "source": [
    "R_phi"
   ],
   "metadata": {
    "collapsed": false,
    "pycharm": {
     "name": "#%%\n"
    }
   }
  },
  {
   "cell_type": "code",
   "execution_count": 33,
   "outputs": [
    {
     "data": {
      "text/plain": "[cos(𝜃)*cos(𝜑)   sin(𝛼)*sin(𝜃)*cos(𝜑) + sin(𝜑)*cos(𝛼)   sin(𝛼)*sin(𝜑) - sin(𝜃)*cos(𝛼)*cos(𝜑)]\n[                                                                                           ]\n[-sin(𝜑)*cos(𝜃)  -sin(𝛼)*sin(𝜃)*sin(𝜑) + cos(𝛼)*cos(𝜑)  sin(𝛼)*cos(𝜑) + sin(𝜃)*sin(𝜑)*cos(𝛼)]\n[                                                                                           ]\n[    sin(𝜃)                 -sin(𝛼)*cos(𝜃)                         cos(𝛼)*cos(𝜃)            ]",
      "text/latex": "$\\displaystyle \\left[\\begin{matrix}\\cos{\\left(𝜃 \\right)} \\cos{\\left(𝜑 \\right)} & \\sin{\\left(𝛼 \\right)} \\sin{\\left(𝜃 \\right)} \\cos{\\left(𝜑 \\right)} + \\sin{\\left(𝜑 \\right)} \\cos{\\left(𝛼 \\right)} & \\sin{\\left(𝛼 \\right)} \\sin{\\left(𝜑 \\right)} - \\sin{\\left(𝜃 \\right)} \\cos{\\left(𝛼 \\right)} \\cos{\\left(𝜑 \\right)}\\\\- \\sin{\\left(𝜑 \\right)} \\cos{\\left(𝜃 \\right)} & - \\sin{\\left(𝛼 \\right)} \\sin{\\left(𝜃 \\right)} \\sin{\\left(𝜑 \\right)} + \\cos{\\left(𝛼 \\right)} \\cos{\\left(𝜑 \\right)} & \\sin{\\left(𝛼 \\right)} \\cos{\\left(𝜑 \\right)} + \\sin{\\left(𝜃 \\right)} \\sin{\\left(𝜑 \\right)} \\cos{\\left(𝛼 \\right)}\\\\\\sin{\\left(𝜃 \\right)} & - \\sin{\\left(𝛼 \\right)} \\cos{\\left(𝜃 \\right)} & \\cos{\\left(𝛼 \\right)} \\cos{\\left(𝜃 \\right)}\\end{matrix}\\right]$"
     },
     "execution_count": 33,
     "metadata": {},
     "output_type": "execute_result"
    }
   ],
   "source": [
    "R"
   ],
   "metadata": {
    "collapsed": false,
    "pycharm": {
     "name": "#%%\n"
    }
   }
  },
  {
   "cell_type": "markdown",
   "source": [
    "### SU(2) and quaternions\n"
   ],
   "metadata": {
    "collapsed": false
   }
  },
  {
   "cell_type": "code",
   "execution_count": 34,
   "outputs": [],
   "source": [
    "a, b, c, d = symbols('a b c d')\n",
    "id = Matrix([[1,0],[0,1]])\n",
    "i = Matrix([[I, 0], [0, -I]])\n",
    "j = Matrix([[0, 1], [-1, 0]])\n",
    "k = Matrix([[0, I], [I, 0]])"
   ],
   "metadata": {
    "collapsed": false,
    "pycharm": {
     "name": "#%%\n"
    }
   }
  },
  {
   "cell_type": "code",
   "execution_count": 35,
   "outputs": [
    {
     "data": {
      "text/plain": "[1  0]\n[    ]\n[0  1]",
      "image/png": "[encoded data removed]",
      "text/latex": "$\\displaystyle \\left[\\begin{matrix}1 & 0\\\\0 & 1\\end{matrix}\\right]$"
     },
     "execution_count": 35,
     "metadata": {},
     "output_type": "execute_result"
    }
   ],
   "source": [
    "id"
   ],
   "metadata": {
    "collapsed": false,
    "pycharm": {
     "name": "#%%\n"
    }
   }
  },
  {
   "cell_type": "code",
   "execution_count": 36,
   "outputs": [
    {
     "data": {
      "text/plain": "[I  0 ]\n[     ]\n[0  -I]",
      "image/png": "[encoded data removed]",
      "text/latex": "$\\displaystyle \\left[\\begin{matrix}i & 0\\\\0 & - i\\end{matrix}\\right]$"
     },
     "execution_count": 36,
     "metadata": {},
     "output_type": "execute_result"
    }
   ],
   "source": [
    "i"
   ],
   "metadata": {
    "collapsed": false,
    "pycharm": {
     "name": "#%%\n"
    }
   }
  },
  {
   "cell_type": "code",
   "execution_count": 37,
   "outputs": [
    {
     "data": {
      "text/plain": "[0   1]\n[     ]\n[-1  0]",
      "image/png": "[encoded data removed]",
      "text/latex": "$\\displaystyle \\left[\\begin{matrix}0 & 1\\\\-1 & 0\\end{matrix}\\right]$"
     },
     "execution_count": 37,
     "metadata": {},
     "output_type": "execute_result"
    }
   ],
   "source": [
    "j"
   ],
   "metadata": {
    "collapsed": false,
    "pycharm": {
     "name": "#%%\n"
    }
   }
  },
  {
   "cell_type": "code",
   "execution_count": 38,
   "outputs": [
    {
     "data": {
      "text/plain": "[0  I]\n[    ]\n[I  0]",
      "image/png": "[encoded data removed]",
      "text/latex": "$\\displaystyle \\left[\\begin{matrix}0 & i\\\\i & 0\\end{matrix}\\right]$"
     },
     "execution_count": 38,
     "metadata": {},
     "output_type": "execute_result"
    }
   ],
   "source": [
    "k"
   ],
   "metadata": {
    "collapsed": false,
    "pycharm": {
     "name": "#%%\n"
    }
   }
  },
  {
   "cell_type": "code",
   "execution_count": 39,
   "outputs": [
    {
     "data": {
      "text/plain": "[a + I*b   c + I*d]\n[                 ]\n[-c + I*d  a - I*b]",
      "image/png": "[encoded data removed]",
      "text/latex": "$\\displaystyle \\left[\\begin{matrix}a + i b & c + i d\\\\- c + i d & a - i b\\end{matrix}\\right]$"
     },
     "execution_count": 39,
     "metadata": {},
     "output_type": "execute_result"
    }
   ],
   "source": [
    "id * a + i * b + j * c + k * d"
   ],
   "metadata": {
    "collapsed": false,
    "pycharm": {
     "name": "#%%\n"
    }
   }
  },
  {
   "cell_type": "code",
   "execution_count": 40,
   "outputs": [
    {
     "data": {
      "text/plain": "[0  I]\n[    ]\n[I  0]",
      "image/png": "[encoded data removed]",
      "text/latex": "$\\displaystyle \\left[\\begin{matrix}0 & i\\\\i & 0\\end{matrix}\\right]$"
     },
     "execution_count": 40,
     "metadata": {},
     "output_type": "execute_result"
    }
   ],
   "source": [
    "i * j"
   ],
   "metadata": {
    "collapsed": false,
    "pycharm": {
     "name": "#%%\n"
    }
   }
  },
  {
   "cell_type": "code",
   "execution_count": 41,
   "outputs": [
    {
     "data": {
      "text/plain": "[I  0 ]\n[     ]\n[0  -I]",
      "image/png": "[encoded data removed]",
      "text/latex": "$\\displaystyle \\left[\\begin{matrix}i & 0\\\\0 & - i\\end{matrix}\\right]$"
     },
     "execution_count": 41,
     "metadata": {},
     "output_type": "execute_result"
    }
   ],
   "source": [
    "j * k"
   ],
   "metadata": {
    "collapsed": false,
    "pycharm": {
     "name": "#%%\n"
    }
   }
  },
  {
   "cell_type": "code",
   "execution_count": 42,
   "outputs": [
    {
     "data": {
      "text/plain": "[0   1]\n[     ]\n[-1  0]",
      "image/png": "[encoded data removed]",
      "text/latex": "$\\displaystyle \\left[\\begin{matrix}0 & 1\\\\-1 & 0\\end{matrix}\\right]$"
     },
     "execution_count": 42,
     "metadata": {},
     "output_type": "execute_result"
    }
   ],
   "source": [
    "k * i\n"
   ],
   "metadata": {
    "collapsed": false,
    "pycharm": {
     "name": "#%%\n"
    }
   }
  }
 ],
 "metadata": {
  "kernelspec": {
   "display_name": "Python 3",
   "language": "python",
   "name": "python3"
  },
  "language_info": {
   "codemirror_mode": {
    "name": "ipython",
    "version": 2
   },
   "file_extension": ".py",
   "mimetype": "text/x-python",
   "name": "python",
   "nbconvert_exporter": "python",
   "pygments_lexer": "ipython2",
   "version": "2.7.6"
  }
 },
 "nbformat": 4,
 "nbformat_minor": 0
}