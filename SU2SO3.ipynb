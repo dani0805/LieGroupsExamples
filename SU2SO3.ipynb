{
 "cells": [
  {
   "cell_type": "markdown",
   "source": [
    "## Rotations\n",
    "A few example of SO(3) and SU(2)\n",
    "### SO(3) Euler angles"
   ],
   "metadata": {
    "collapsed": false,
    "pycharm": {
     "name": "#%% md\n"
    }
   }
  },
  {
   "cell_type": "code",
   "execution_count": 83,
   "metadata": {
    "collapsed": true
   },
   "outputs": [],
   "source": [
    "from sympy.interactive.printing import init_printing\n",
    "init_printing(use_unicode=False, wrap_line=False)\n",
    "from sympy.matrices import Matrix, eye, zeros, ones, diag, GramSchmidt\n",
    "from sympy import *\n",
    "alpha, theta, phi = symbols('𝛼 𝜃 𝜑', positive=True, real=True)\n",
    "R_alpha =  Matrix([[1,0,0], [0, cos(alpha), sin(alpha)], [0, -sin(alpha), cos(alpha)]])\n",
    "R_theta =  Matrix([[cos(theta),0, -sin(theta)], [0,1,0], [sin(theta),0,cos(theta)]])\n",
    "R_phi = Matrix([[cos(phi),sin(phi),0], [-sin(phi),cos(phi),0], [0,0,1]])\n",
    "R = R_phi * R_theta * R_alpha"
   ]
  },
  {
   "cell_type": "code",
   "execution_count": 84,
   "outputs": [
    {
     "data": {
      "text/plain": "[1     0       0   ]\n[                  ]\n[0  cos(𝛼)   sin(𝛼)]\n[                  ]\n[0  -sin(𝛼)  cos(𝛼)]",
      "text/latex": "$\\displaystyle \\left[\\begin{matrix}1 & 0 & 0\\\\0 & \\cos{\\left(𝛼 \\right)} & \\sin{\\left(𝛼 \\right)}\\\\0 & - \\sin{\\left(𝛼 \\right)} & \\cos{\\left(𝛼 \\right)}\\end{matrix}\\right]$"
     },
     "execution_count": 84,
     "metadata": {},
     "output_type": "execute_result"
    }
   ],
   "source": [
    "R_alpha"
   ],
   "metadata": {
    "collapsed": false,
    "pycharm": {
     "name": "#%%\n"
    }
   }
  },
  {
   "cell_type": "code",
   "execution_count": 85,
   "outputs": [
    {
     "data": {
      "text/plain": "[cos(𝜃)  0  -sin(𝜃)]\n[                  ]\n[  0     1     0   ]\n[                  ]\n[sin(𝜃)  0  cos(𝜃) ]",
      "text/latex": "$\\displaystyle \\left[\\begin{matrix}\\cos{\\left(𝜃 \\right)} & 0 & - \\sin{\\left(𝜃 \\right)}\\\\0 & 1 & 0\\\\\\sin{\\left(𝜃 \\right)} & 0 & \\cos{\\left(𝜃 \\right)}\\end{matrix}\\right]$"
     },
     "execution_count": 85,
     "metadata": {},
     "output_type": "execute_result"
    }
   ],
   "source": [
    "R_theta"
   ],
   "metadata": {
    "collapsed": false,
    "pycharm": {
     "name": "#%%\n"
    }
   }
  },
  {
   "cell_type": "code",
   "execution_count": 86,
   "outputs": [
    {
     "data": {
      "text/plain": "[cos(𝜑)   sin(𝜑)  0]\n[                  ]\n[-sin(𝜑)  cos(𝜑)  0]\n[                  ]\n[   0       0     1]",
      "text/latex": "$\\displaystyle \\left[\\begin{matrix}\\cos{\\left(𝜑 \\right)} & \\sin{\\left(𝜑 \\right)} & 0\\\\- \\sin{\\left(𝜑 \\right)} & \\cos{\\left(𝜑 \\right)} & 0\\\\0 & 0 & 1\\end{matrix}\\right]$"
     },
     "execution_count": 86,
     "metadata": {},
     "output_type": "execute_result"
    }
   ],
   "source": [
    "R_phi"
   ],
   "metadata": {
    "collapsed": false,
    "pycharm": {
     "name": "#%%\n"
    }
   }
  },
  {
   "cell_type": "code",
   "execution_count": 87,
   "outputs": [
    {
     "data": {
      "text/plain": "[cos(𝜃)*cos(𝜑)   sin(𝛼)*sin(𝜃)*cos(𝜑) + sin(𝜑)*cos(𝛼)   sin(𝛼)*sin(𝜑) - sin(𝜃)*cos(𝛼)*cos(𝜑)]\n[                                                                                           ]\n[-sin(𝜑)*cos(𝜃)  -sin(𝛼)*sin(𝜃)*sin(𝜑) + cos(𝛼)*cos(𝜑)  sin(𝛼)*cos(𝜑) + sin(𝜃)*sin(𝜑)*cos(𝛼)]\n[                                                                                           ]\n[    sin(𝜃)                 -sin(𝛼)*cos(𝜃)                         cos(𝛼)*cos(𝜃)            ]",
      "text/latex": "$\\displaystyle \\left[\\begin{matrix}\\cos{\\left(𝜃 \\right)} \\cos{\\left(𝜑 \\right)} & \\sin{\\left(𝛼 \\right)} \\sin{\\left(𝜃 \\right)} \\cos{\\left(𝜑 \\right)} + \\sin{\\left(𝜑 \\right)} \\cos{\\left(𝛼 \\right)} & \\sin{\\left(𝛼 \\right)} \\sin{\\left(𝜑 \\right)} - \\sin{\\left(𝜃 \\right)} \\cos{\\left(𝛼 \\right)} \\cos{\\left(𝜑 \\right)}\\\\- \\sin{\\left(𝜑 \\right)} \\cos{\\left(𝜃 \\right)} & - \\sin{\\left(𝛼 \\right)} \\sin{\\left(𝜃 \\right)} \\sin{\\left(𝜑 \\right)} + \\cos{\\left(𝛼 \\right)} \\cos{\\left(𝜑 \\right)} & \\sin{\\left(𝛼 \\right)} \\cos{\\left(𝜑 \\right)} + \\sin{\\left(𝜃 \\right)} \\sin{\\left(𝜑 \\right)} \\cos{\\left(𝛼 \\right)}\\\\\\sin{\\left(𝜃 \\right)} & - \\sin{\\left(𝛼 \\right)} \\cos{\\left(𝜃 \\right)} & \\cos{\\left(𝛼 \\right)} \\cos{\\left(𝜃 \\right)}\\end{matrix}\\right]$"
     },
     "execution_count": 87,
     "metadata": {},
     "output_type": "execute_result"
    }
   ],
   "source": [
    "R"
   ],
   "metadata": {
    "collapsed": false,
    "pycharm": {
     "name": "#%%\n"
    }
   }
  },
  {
   "cell_type": "markdown",
   "source": [
    "### SU(2) and quaternions\n"
   ],
   "metadata": {
    "collapsed": false
   }
  },
  {
   "cell_type": "code",
   "execution_count": 88,
   "outputs": [],
   "source": [
    "# a, b, c, d = symbols('a b c d', real=True)\n",
    "id = Matrix([[1,0],[0,1]])\n",
    "i = Matrix([[I, 0], [0, -I]])\n",
    "j = Matrix([[0, 1], [-1, 0]])\n",
    "k = Matrix([[0, I], [I, 0]])\n",
    "b = sin(alpha/2)\n",
    "c = sin(theta/2)\n",
    "d = sin(phi/2)\n",
    "a = sqrt(1 - b**2 - c**2 - d**2 )\n",
    "U = id * a + i * b + j * c + k * d"
   ],
   "metadata": {
    "collapsed": false,
    "pycharm": {
     "name": "#%%\n"
    }
   }
  },
  {
   "cell_type": "code",
   "execution_count": 89,
   "outputs": [
    {
     "data": {
      "text/plain": "[1  0]\n[    ]\n[0  1]",
      "image/png": "[encoded data removed]",
      "text/latex": "$\\displaystyle \\left[\\begin{matrix}1 & 0\\\\0 & 1\\end{matrix}\\right]$"
     },
     "execution_count": 89,
     "metadata": {},
     "output_type": "execute_result"
    }
   ],
   "source": [
    "id"
   ],
   "metadata": {
    "collapsed": false,
    "pycharm": {
     "name": "#%%\n"
    }
   }
  },
  {
   "cell_type": "code",
   "execution_count": 90,
   "outputs": [
    {
     "data": {
      "text/plain": "[I  0 ]\n[     ]\n[0  -I]",
      "image/png": "[encoded data removed]",
      "text/latex": "$\\displaystyle \\left[\\begin{matrix}i & 0\\\\0 & - i\\end{matrix}\\right]$"
     },
     "execution_count": 90,
     "metadata": {},
     "output_type": "execute_result"
    }
   ],
   "source": [
    "i"
   ],
   "metadata": {
    "collapsed": false,
    "pycharm": {
     "name": "#%%\n"
    }
   }
  },
  {
   "cell_type": "code",
   "execution_count": 91,
   "outputs": [
    {
     "data": {
      "text/plain": "[0   1]\n[     ]\n[-1  0]",
      "image/png": "[encoded data removed]",
      "text/latex": "$\\displaystyle \\left[\\begin{matrix}0 & 1\\\\-1 & 0\\end{matrix}\\right]$"
     },
     "execution_count": 91,
     "metadata": {},
     "output_type": "execute_result"
    }
   ],
   "source": [
    "j"
   ],
   "metadata": {
    "collapsed": false,
    "pycharm": {
     "name": "#%%\n"
    }
   }
  },
  {
   "cell_type": "code",
   "execution_count": 92,
   "outputs": [
    {
     "data": {
      "text/plain": "[0  I]\n[    ]\n[I  0]",
      "image/png": "[encoded data removed]",
      "text/latex": "$\\displaystyle \\left[\\begin{matrix}0 & i\\\\i & 0\\end{matrix}\\right]$"
     },
     "execution_count": 92,
     "metadata": {},
     "output_type": "execute_result"
    }
   ],
   "source": [
    "k"
   ],
   "metadata": {
    "collapsed": false,
    "pycharm": {
     "name": "#%%\n"
    }
   }
  },
  {
   "cell_type": "code",
   "execution_count": 93,
   "outputs": [
    {
     "data": {
      "text/plain": "[    ___________________________________                                                               ]\n[   /      2/𝛼\\      2/𝜃\\      2/𝜑\\             /𝛼\\                     /𝜃\\        /𝜑\\                 ]\n[  /  - sin |-| - sin |-| - sin |-| + 1  + I*sin|-|                  sin|-| + I*sin|-|                 ]\n[\\/         \\2/       \\2/       \\2/             \\2/                     \\2/        \\2/                 ]\n[                                                                                                      ]\n[                                                        ___________________________________           ]\n[                    /𝜃\\        /𝜑\\                     /      2/𝛼\\      2/𝜃\\      2/𝜑\\             /𝛼\\]\n[               - sin|-| + I*sin|-|                    /  - sin |-| - sin |-| - sin |-| + 1  - I*sin|-|]\n[                    \\2/        \\2/                  \\/         \\2/       \\2/       \\2/             \\2/]",
      "text/latex": "$\\displaystyle \\left[\\begin{matrix}\\sqrt{- \\sin^{2}{\\left(\\frac{𝛼}{2} \\right)} - \\sin^{2}{\\left(\\frac{𝜃}{2} \\right)} - \\sin^{2}{\\left(\\frac{𝜑}{2} \\right)} + 1} + i \\sin{\\left(\\frac{𝛼}{2} \\right)} & \\sin{\\left(\\frac{𝜃}{2} \\right)} + i \\sin{\\left(\\frac{𝜑}{2} \\right)}\\\\- \\sin{\\left(\\frac{𝜃}{2} \\right)} + i \\sin{\\left(\\frac{𝜑}{2} \\right)} & \\sqrt{- \\sin^{2}{\\left(\\frac{𝛼}{2} \\right)} - \\sin^{2}{\\left(\\frac{𝜃}{2} \\right)} - \\sin^{2}{\\left(\\frac{𝜑}{2} \\right)} + 1} - i \\sin{\\left(\\frac{𝛼}{2} \\right)}\\end{matrix}\\right]$"
     },
     "execution_count": 93,
     "metadata": {},
     "output_type": "execute_result"
    }
   ],
   "source": [
    "U"
   ],
   "metadata": {
    "collapsed": false,
    "pycharm": {
     "name": "#%%\n"
    }
   }
  },
  {
   "cell_type": "code",
   "execution_count": 94,
   "outputs": [
    {
     "data": {
      "text/plain": "[0  I]\n[    ]\n[I  0]",
      "image/png": "[encoded data removed]",
      "text/latex": "$\\displaystyle \\left[\\begin{matrix}0 & i\\\\i & 0\\end{matrix}\\right]$"
     },
     "execution_count": 94,
     "metadata": {},
     "output_type": "execute_result"
    }
   ],
   "source": [
    "i * j"
   ],
   "metadata": {
    "collapsed": false,
    "pycharm": {
     "name": "#%%\n"
    }
   }
  },
  {
   "cell_type": "code",
   "execution_count": 95,
   "outputs": [
    {
     "data": {
      "text/plain": "[I  0 ]\n[     ]\n[0  -I]",
      "image/png": "[encoded data removed]",
      "text/latex": "$\\displaystyle \\left[\\begin{matrix}i & 0\\\\0 & - i\\end{matrix}\\right]$"
     },
     "execution_count": 95,
     "metadata": {},
     "output_type": "execute_result"
    }
   ],
   "source": [
    "j * k"
   ],
   "metadata": {
    "collapsed": false,
    "pycharm": {
     "name": "#%%\n"
    }
   }
  },
  {
   "cell_type": "code",
   "execution_count": 96,
   "outputs": [
    {
     "data": {
      "text/plain": "[0   1]\n[     ]\n[-1  0]",
      "image/png": "[encoded data removed]",
      "text/latex": "$\\displaystyle \\left[\\begin{matrix}0 & 1\\\\-1 & 0\\end{matrix}\\right]$"
     },
     "execution_count": 96,
     "metadata": {},
     "output_type": "execute_result"
    }
   ],
   "source": [
    "k * i"
   ],
   "metadata": {
    "collapsed": false,
    "pycharm": {
     "name": "#%%\n"
    }
   }
  },
  {
   "cell_type": "markdown",
   "source": [
    "## Properties of quaternions"
   ],
   "metadata": {
    "collapsed": false
   }
  },
  {
   "cell_type": "code",
   "execution_count": 97,
   "outputs": [
    {
     "data": {
      "text/plain": "1",
      "image/png": "[encoded data removed]",
      "text/latex": "$\\displaystyle 1$"
     },
     "execution_count": 97,
     "metadata": {},
     "output_type": "execute_result"
    }
   ],
   "source": [
    "det(id * a + i * b + j * c + k * d)\n"
   ],
   "metadata": {
    "collapsed": false,
    "pycharm": {
     "name": "#%%\n"
    }
   }
  },
  {
   "cell_type": "code",
   "execution_count": 98,
   "outputs": [],
   "source": [
    "x, y, z, x1, y1, z1 = symbols('x y z x_1 y_1 z_1' , real=True)\n",
    "X = Matrix([[x, y + I*z],[y - I*z, -x]])\n",
    "X1= Matrix([[x1, y1 + I*z1],[y1 - I*z1, -x1]])"
   ],
   "metadata": {
    "collapsed": false,
    "pycharm": {
     "name": "#%%\n"
    }
   }
  },
  {
   "cell_type": "code",
   "execution_count": 99,
   "outputs": [
    {
     "data": {
      "text/plain": "[   x     y + I*z]\n[                ]\n[y - I*z    -x   ]",
      "image/png": "[encoded data removed]",
      "text/latex": "$\\displaystyle \\left[\\begin{matrix}x & y + i z\\\\y - i z & - x\\end{matrix}\\right]$"
     },
     "execution_count": 99,
     "metadata": {},
     "output_type": "execute_result"
    }
   ],
   "source": [
    "X"
   ],
   "metadata": {
    "collapsed": false,
    "pycharm": {
     "name": "#%%\n"
    }
   }
  },
  {
   "cell_type": "code",
   "execution_count": 100,
   "outputs": [
    {
     "data": {
      "text/plain": "[    x_1      y_1 + I*z_1]\n[                        ]\n[y_1 - I*z_1     -x_1    ]",
      "image/png": "[encoded data removed]",
      "text/latex": "$\\displaystyle \\left[\\begin{matrix}x_{1} & y_{1} + i z_{1}\\\\y_{1} - i z_{1} & - x_{1}\\end{matrix}\\right]$"
     },
     "execution_count": 100,
     "metadata": {},
     "output_type": "execute_result"
    }
   ],
   "source": [
    "X1"
   ],
   "metadata": {
    "collapsed": false,
    "pycharm": {
     "name": "#%%\n"
    }
   }
  },
  {
   "cell_type": "code",
   "execution_count": 101,
   "outputs": [
    {
     "data": {
      "text/plain": "x*x_1 + y*y_1 + z*z_1",
      "image/png": "[encoded data removed]",
      "text/latex": "$\\displaystyle x x_{1} + y y_{1} + z z_{1}$"
     },
     "execution_count": 101,
     "metadata": {},
     "output_type": "execute_result"
    }
   ],
   "source": [
    "simplify(trace(X * X1)/2)\n"
   ],
   "metadata": {
    "collapsed": false,
    "pycharm": {
     "name": "#%%\n"
    }
   }
  },
  {
   "cell_type": "code",
   "execution_count": 102,
   "outputs": [],
   "source": [
    "Y = U * X * U.inv()\n",
    "Y1 = U * X1 * U.inv()"
   ],
   "metadata": {
    "collapsed": false,
    "pycharm": {
     "name": "#%%\n"
    }
   }
  },
  {
   "cell_type": "code",
   "execution_count": 103,
   "outputs": [
    {
     "data": {
      "text/plain": "[  /  /    ___________________________________           \\                                \\                                                                                                                                                                                                                                                                                                                                                                                                                   ]\n[  |  |   /      2/𝛼\\      2/𝜃\\      2/𝜑\\             /𝛼\\|             /   /𝜃\\        /𝜑\\\\| /     2/𝜃\\      2/𝜑\\    \\                                                                                                                                                                                                                                                                                                                                                                                         ]\n[  |x*|  /  - sin |-| - sin |-| - sin |-| + 1  + I*sin|-|| + (y - I*z)*|sin|-| + I*sin|-|||*|- sin |-| - sin |-| + 1|   /                                    /    ___________________________________           \\\\                          /  /    ___________________________________           \\                                \\                         /                                    /    ___________________________________           \\\\ /    ___________________________________           \\  ]\n[  \\  \\\\/         \\2/       \\2/       \\2/             \\2//             \\   \\2/        \\2/// \\      \\2/       \\2/    /   |    /   /𝜃\\        /𝜑\\\\             |   /      2/𝛼\\      2/𝜃\\      2/𝜑\\             /𝛼\\|| /   /𝜃\\        /𝜑\\\\      |  |   /      2/𝛼\\      2/𝜃\\      2/𝜑\\             /𝛼\\|             /   /𝜃\\        /𝜑\\\\| /     /𝜃\\        /𝜑\\\\   |    /   /𝜃\\        /𝜑\\\\             |   /      2/𝛼\\      2/𝜃\\      2/𝜑\\             /𝛼\\|| |   /      2/𝛼\\      2/𝜃\\      2/𝜑\\             /𝛼\\|  ]\n[  ------------------------------------------------------------------------------------------------------------------ + |- x*|sin|-| + I*sin|-|| + (y + I*z)*|  /  - sin |-| - sin |-| - sin |-| + 1  + I*sin|-|||*|sin|-| - I*sin|-||      |x*|  /  - sin |-| - sin |-| - sin |-| + 1  + I*sin|-|| + (y - I*z)*|sin|-| + I*sin|-|||*|- sin|-| - I*sin|-|| + |- x*|sin|-| + I*sin|-|| + (y + I*z)*|  /  - sin |-| - sin |-| - sin |-| + 1  + I*sin|-|||*|  /  - sin |-| - sin |-| - sin |-| + 1  + I*sin|-||  ]\n[                                      ___________________________________                                              \\    \\   \\2/        \\2//             \\\\/         \\2/       \\2/       \\2/             \\2/// \\   \\2/        \\2//      \\  \\\\/         \\2/       \\2/       \\2/             \\2//             \\   \\2/        \\2/// \\     \\2/        \\2//   \\    \\   \\2/        \\2//             \\\\/         \\2/       \\2/       \\2/             \\2/// \\\\/         \\2/       \\2/       \\2/             \\2//  ]\n[                                     /      2/𝛼\\      2/𝜃\\      2/𝜑\\             /𝛼\\                                                                                                                                                                                                                                                                                                                                                                                                                         ]\n[                                    /  - sin |-| - sin |-| - sin |-| + 1  + I*sin|-|                                                                                                                                                                                                                                                                                                                                                                                                                         ]\n[                                  \\/         \\2/       \\2/       \\2/             \\2/                                                                                                                                                                                                                                                                                                                                                                                                                         ]\n[                                                                                                                                                                                                                                                                                                                                                                                                                                                                                                             ]\n[                                                                                                                   /                                    /    ___________________________________           \\\\                                                                                                                                                                                                                                                                                                ]\n[                                                                                                                   |  /     /𝜃\\        /𝜑\\\\             |   /      2/𝛼\\      2/𝜃\\      2/𝜑\\             /𝛼\\|| /     2/𝜃\\      2/𝜑\\    \\                                                                                                                                                                                                                                                                      ]\n[/    /    ___________________________________           \\                                  \\                       |x*|- sin|-| + I*sin|-|| + (y - I*z)*|  /  - sin |-| - sin |-| - sin |-| + 1  - I*sin|-|||*|- sin |-| - sin |-| + 1|  /    /    ___________________________________           \\                                  \\ /    ___________________________________           \\   /                                    /    ___________________________________           \\\\                      ]\n[|    |   /      2/𝛼\\      2/𝜃\\      2/𝜑\\             /𝛼\\|             /     /𝜃\\        /𝜑\\\\| /   /𝜃\\        /𝜑\\\\   \\  \\     \\2/        \\2//             \\\\/         \\2/       \\2/       \\2/             \\2/// \\      \\2/       \\2/    /  |    |   /      2/𝛼\\      2/𝜃\\      2/𝜑\\             /𝛼\\|             /     /𝜃\\        /𝜑\\\\| |   /      2/𝛼\\      2/𝜃\\      2/𝜑\\             /𝛼\\|   |  /     /𝜃\\        /𝜑\\\\             |   /      2/𝛼\\      2/𝜃\\      2/𝜑\\             /𝛼\\|| /     /𝜃\\        /𝜑\\\\]\n[|- x*|  /  - sin |-| - sin |-| - sin |-| + 1  - I*sin|-|| + (y + I*z)*|- sin|-| + I*sin|-|||*|sin|-| - I*sin|-|| + --------------------------------------------------------------------------------------------------------------------  |- x*|  /  - sin |-| - sin |-| - sin |-| + 1  - I*sin|-|| + (y + I*z)*|- sin|-| + I*sin|-|||*|  /  - sin |-| - sin |-| - sin |-| + 1  + I*sin|-|| + |x*|- sin|-| + I*sin|-|| + (y - I*z)*|  /  - sin |-| - sin |-| - sin |-| + 1  - I*sin|-|||*|- sin|-| - I*sin|-||]\n[\\    \\\\/         \\2/       \\2/       \\2/             \\2//             \\     \\2/        \\2/// \\   \\2/        \\2//                                        ___________________________________                                              \\    \\\\/         \\2/       \\2/       \\2/             \\2//             \\     \\2/        \\2/// \\\\/         \\2/       \\2/       \\2/             \\2//   \\  \\     \\2/        \\2//             \\\\/         \\2/       \\2/       \\2/             \\2/// \\     \\2/        \\2//]\n[                                                                                                                                                       /      2/𝛼\\      2/𝜃\\      2/𝜑\\             /𝛼\\                                                                                                                                                                                                                                                                                                       ]\n[                                                                                                                                                      /  - sin |-| - sin |-| - sin |-| + 1  + I*sin|-|                                                                                                                                                                                                                                                                                                       ]\n[                                                                                                                                                    \\/         \\2/       \\2/       \\2/             \\2/                                                                                                                                                                                                                                                                                                       ]",
      "text/latex": "$\\displaystyle \\left[\\begin{matrix}\\frac{\\left(x \\left(\\sqrt{- \\sin^{2}{\\left(\\frac{𝛼}{2} \\right)} - \\sin^{2}{\\left(\\frac{𝜃}{2} \\right)} - \\sin^{2}{\\left(\\frac{𝜑}{2} \\right)} + 1} + i \\sin{\\left(\\frac{𝛼}{2} \\right)}\\right) + \\left(y - i z\\right) \\left(\\sin{\\left(\\frac{𝜃}{2} \\right)} + i \\sin{\\left(\\frac{𝜑}{2} \\right)}\\right)\\right) \\left(- \\sin^{2}{\\left(\\frac{𝜃}{2} \\right)} - \\sin^{2}{\\left(\\frac{𝜑}{2} \\right)} + 1\\right)}{\\sqrt{- \\sin^{2}{\\left(\\frac{𝛼}{2} \\right)} - \\sin^{2}{\\left(\\frac{𝜃}{2} \\right)} - \\sin^{2}{\\left(\\frac{𝜑}{2} \\right)} + 1} + i \\sin{\\left(\\frac{𝛼}{2} \\right)}} + \\left(- x \\left(\\sin{\\left(\\frac{𝜃}{2} \\right)} + i \\sin{\\left(\\frac{𝜑}{2} \\right)}\\right) + \\left(y + i z\\right) \\left(\\sqrt{- \\sin^{2}{\\left(\\frac{𝛼}{2} \\right)} - \\sin^{2}{\\left(\\frac{𝜃}{2} \\right)} - \\sin^{2}{\\left(\\frac{𝜑}{2} \\right)} + 1} + i \\sin{\\left(\\frac{𝛼}{2} \\right)}\\right)\\right) \\left(\\sin{\\left(\\frac{𝜃}{2} \\right)} - i \\sin{\\left(\\frac{𝜑}{2} \\right)}\\right) & \\left(x \\left(\\sqrt{- \\sin^{2}{\\left(\\frac{𝛼}{2} \\right)} - \\sin^{2}{\\left(\\frac{𝜃}{2} \\right)} - \\sin^{2}{\\left(\\frac{𝜑}{2} \\right)} + 1} + i \\sin{\\left(\\frac{𝛼}{2} \\right)}\\right) + \\left(y - i z\\right) \\left(\\sin{\\left(\\frac{𝜃}{2} \\right)} + i \\sin{\\left(\\frac{𝜑}{2} \\right)}\\right)\\right) \\left(- \\sin{\\left(\\frac{𝜃}{2} \\right)} - i \\sin{\\left(\\frac{𝜑}{2} \\right)}\\right) + \\left(- x \\left(\\sin{\\left(\\frac{𝜃}{2} \\right)} + i \\sin{\\left(\\frac{𝜑}{2} \\right)}\\right) + \\left(y + i z\\right) \\left(\\sqrt{- \\sin^{2}{\\left(\\frac{𝛼}{2} \\right)} - \\sin^{2}{\\left(\\frac{𝜃}{2} \\right)} - \\sin^{2}{\\left(\\frac{𝜑}{2} \\right)} + 1} + i \\sin{\\left(\\frac{𝛼}{2} \\right)}\\right)\\right) \\left(\\sqrt{- \\sin^{2}{\\left(\\frac{𝛼}{2} \\right)} - \\sin^{2}{\\left(\\frac{𝜃}{2} \\right)} - \\sin^{2}{\\left(\\frac{𝜑}{2} \\right)} + 1} + i \\sin{\\left(\\frac{𝛼}{2} \\right)}\\right)\\\\\\left(- x \\left(\\sqrt{- \\sin^{2}{\\left(\\frac{𝛼}{2} \\right)} - \\sin^{2}{\\left(\\frac{𝜃}{2} \\right)} - \\sin^{2}{\\left(\\frac{𝜑}{2} \\right)} + 1} - i \\sin{\\left(\\frac{𝛼}{2} \\right)}\\right) + \\left(y + i z\\right) \\left(- \\sin{\\left(\\frac{𝜃}{2} \\right)} + i \\sin{\\left(\\frac{𝜑}{2} \\right)}\\right)\\right) \\left(\\sin{\\left(\\frac{𝜃}{2} \\right)} - i \\sin{\\left(\\frac{𝜑}{2} \\right)}\\right) + \\frac{\\left(x \\left(- \\sin{\\left(\\frac{𝜃}{2} \\right)} + i \\sin{\\left(\\frac{𝜑}{2} \\right)}\\right) + \\left(y - i z\\right) \\left(\\sqrt{- \\sin^{2}{\\left(\\frac{𝛼}{2} \\right)} - \\sin^{2}{\\left(\\frac{𝜃}{2} \\right)} - \\sin^{2}{\\left(\\frac{𝜑}{2} \\right)} + 1} - i \\sin{\\left(\\frac{𝛼}{2} \\right)}\\right)\\right) \\left(- \\sin^{2}{\\left(\\frac{𝜃}{2} \\right)} - \\sin^{2}{\\left(\\frac{𝜑}{2} \\right)} + 1\\right)}{\\sqrt{- \\sin^{2}{\\left(\\frac{𝛼}{2} \\right)} - \\sin^{2}{\\left(\\frac{𝜃}{2} \\right)} - \\sin^{2}{\\left(\\frac{𝜑}{2} \\right)} + 1} + i \\sin{\\left(\\frac{𝛼}{2} \\right)}} & \\left(- x \\left(\\sqrt{- \\sin^{2}{\\left(\\frac{𝛼}{2} \\right)} - \\sin^{2}{\\left(\\frac{𝜃}{2} \\right)} - \\sin^{2}{\\left(\\frac{𝜑}{2} \\right)} + 1} - i \\sin{\\left(\\frac{𝛼}{2} \\right)}\\right) + \\left(y + i z\\right) \\left(- \\sin{\\left(\\frac{𝜃}{2} \\right)} + i \\sin{\\left(\\frac{𝜑}{2} \\right)}\\right)\\right) \\left(\\sqrt{- \\sin^{2}{\\left(\\frac{𝛼}{2} \\right)} - \\sin^{2}{\\left(\\frac{𝜃}{2} \\right)} - \\sin^{2}{\\left(\\frac{𝜑}{2} \\right)} + 1} + i \\sin{\\left(\\frac{𝛼}{2} \\right)}\\right) + \\left(x \\left(- \\sin{\\left(\\frac{𝜃}{2} \\right)} + i \\sin{\\left(\\frac{𝜑}{2} \\right)}\\right) + \\left(y - i z\\right) \\left(\\sqrt{- \\sin^{2}{\\left(\\frac{𝛼}{2} \\right)} - \\sin^{2}{\\left(\\frac{𝜃}{2} \\right)} - \\sin^{2}{\\left(\\frac{𝜑}{2} \\right)} + 1} - i \\sin{\\left(\\frac{𝛼}{2} \\right)}\\right)\\right) \\left(- \\sin{\\left(\\frac{𝜃}{2} \\right)} - i \\sin{\\left(\\frac{𝜑}{2} \\right)}\\right)\\end{matrix}\\right]$"
     },
     "execution_count": 103,
     "metadata": {},
     "output_type": "execute_result"
    }
   ],
   "source": [
    "Y\n"
   ],
   "metadata": {
    "collapsed": false,
    "pycharm": {
     "name": "#%%\n"
    }
   }
  },
  {
   "cell_type": "code",
   "execution_count": 104,
   "outputs": [
    {
     "data": {
      "text/plain": "x*x_1 + y*y_1 + z*z_1",
      "image/png": "[encoded data removed]",
      "text/latex": "$\\displaystyle x x_{1} + y y_{1} + z z_{1}$"
     },
     "execution_count": 104,
     "metadata": {},
     "output_type": "execute_result"
    }
   ],
   "source": [
    "simplify(trace(Y * Y1)/2)\n"
   ],
   "metadata": {
    "collapsed": false,
    "pycharm": {
     "name": "#%%\n"
    }
   }
  },
  {
   "cell_type": "code",
   "execution_count": 105,
   "outputs": [
    {
     "data": {
      "text/plain": "[   x      -y - I*z]\n[                  ]\n[-y + I*z     -x   ]",
      "image/png": "[encoded data removed]",
      "text/latex": "$\\displaystyle \\left[\\begin{matrix}x & - y - i z\\\\- y + i z & - x\\end{matrix}\\right]$"
     },
     "execution_count": 105,
     "metadata": {},
     "output_type": "execute_result"
    }
   ],
   "source": [
    "Y.subs({alpha:pi, theta:0, phi:0})"
   ],
   "metadata": {
    "collapsed": false,
    "pycharm": {
     "name": "#%%\n"
    }
   }
  },
  {
   "cell_type": "markdown",
   "source": [
    "While this is not true in general we can assume here that sqrt(cos(alpha/2)**2) = cos(alpha/2) as we can choose without\n",
    "loss of generality that alpha is between -pi/2 and pi/2. Therefore we substitute manually the expression to not encounter\n",
    "absolute values and unnecessarely complex expressions"
   ],
   "metadata": {
    "collapsed": false,
    "pycharm": {
     "name": "#%% md\n"
    }
   }
  },
  {
   "cell_type": "code",
   "execution_count": 106,
   "outputs": [
    {
     "data": {
      "text/plain": "[                            I*𝛼]\n[       x         (y + I*z)*e   ]\n[                               ]\n[           -I*𝛼                ]\n[(y - I*z)*e            -x      ]",
      "text/latex": "$\\displaystyle \\left[\\begin{matrix}x & \\left(y + i z\\right) e^{i 𝛼}\\\\\\left(y - i z\\right) e^{- i 𝛼} & - x\\end{matrix}\\right]$"
     },
     "execution_count": 106,
     "metadata": {},
     "output_type": "execute_result"
    }
   ],
   "source": [
    "simplify(Y.subs({theta:0, phi:0}).subs(sqrt(1 - sin(alpha/2)**2), cos(alpha/2)))"
   ],
   "metadata": {
    "collapsed": false,
    "pycharm": {
     "name": "#%%\n"
    }
   }
  },
  {
   "cell_type": "code",
   "execution_count": 107,
   "outputs": [
    {
     "data": {
      "text/plain": "[   x*cos(𝜃) + y*sin(𝜃)      -x*sin(𝜃) + y*cos(𝜃) + I*z]\n[                                                      ]\n[-x*sin(𝜃) + y*cos(𝜃) - I*z     -x*cos(𝜃) - y*sin(𝜃)   ]",
      "text/latex": "$\\displaystyle \\left[\\begin{matrix}x \\cos{\\left(𝜃 \\right)} + y \\sin{\\left(𝜃 \\right)} & - x \\sin{\\left(𝜃 \\right)} + y \\cos{\\left(𝜃 \\right)} + i z\\\\- x \\sin{\\left(𝜃 \\right)} + y \\cos{\\left(𝜃 \\right)} - i z & - x \\cos{\\left(𝜃 \\right)} - y \\sin{\\left(𝜃 \\right)}\\end{matrix}\\right]$"
     },
     "execution_count": 107,
     "metadata": {},
     "output_type": "execute_result"
    }
   ],
   "source": [
    "simplify(simplify(Y.subs({alpha:0, phi:0})\n",
    "                  .subs(sqrt(1 - sin(theta/2)**2), cos(theta/2)))\n",
    "         .subs(- 2 * sin(theta/2)**2, cos(theta) - 1)\n",
    "         .subs(2 * cos(theta/2)**2, cos(theta) + 1))\n"
   ],
   "metadata": {
    "collapsed": false,
    "pycharm": {
     "name": "#%%\n"
    }
   }
  },
  {
   "cell_type": "code",
   "execution_count": 108,
   "outputs": [
    {
     "data": {
      "text/plain": "[    x*cos(𝜑) + z*sin(𝜑)      -I*x*sin(𝜑) + y + I*z*cos(𝜑)]\n[                                                         ]\n[I*x*sin(𝜑) + y - I*z*cos(𝜑)      -x*cos(𝜑) - z*sin(𝜑)    ]",
      "text/latex": "$\\displaystyle \\left[\\begin{matrix}x \\cos{\\left(𝜑 \\right)} + z \\sin{\\left(𝜑 \\right)} & - i x \\sin{\\left(𝜑 \\right)} + y + i z \\cos{\\left(𝜑 \\right)}\\\\i x \\sin{\\left(𝜑 \\right)} + y - i z \\cos{\\left(𝜑 \\right)} & - x \\cos{\\left(𝜑 \\right)} - z \\sin{\\left(𝜑 \\right)}\\end{matrix}\\right]$"
     },
     "execution_count": 108,
     "metadata": {},
     "output_type": "execute_result"
    }
   ],
   "source": [
    "simplify(simplify(Y.subs({alpha:0, theta:0})\n",
    "                  .subs(sqrt(1 - sin(phi/2)**2), cos(phi/2)))\n",
    "         .subs(- 2 * sin(phi/2)**2, cos(phi) - 1)\n",
    "         .subs(2 * cos(phi/2)**2, cos(phi) + 1))\n"
   ],
   "metadata": {
    "collapsed": false,
    "pycharm": {
     "name": "#%%\n"
    }
   }
  },
  {
   "cell_type": "markdown",
   "source": [
    "## SU(2) -> SO(3) Kernel\n",
    "if we set alpha to pi and then square we would expect to get the identity matrix.\n",
    "Instead we get -I. This still acts as the identity when applied to R**3. In general we can change a sign in the quaternion and we still get the same rotation.\n",
    "This choice of sign is implicitly done in the square root above when we set a to be positive."
   ],
   "metadata": {
    "collapsed": false
   }
  },
  {
   "cell_type": "code",
   "execution_count": 109,
   "outputs": [
    {
     "data": {
      "text/plain": "[-1  0 ]\n[      ]\n[0   -1]",
      "image/png": "[encoded data removed]",
      "text/latex": "$\\displaystyle \\left[\\begin{matrix}-1 & 0\\\\0 & -1\\end{matrix}\\right]$"
     },
     "execution_count": 109,
     "metadata": {},
     "output_type": "execute_result"
    }
   ],
   "source": [
    "U.subs({alpha:pi, theta:0, phi:0}) ** 2"
   ],
   "metadata": {
    "collapsed": false,
    "pycharm": {
     "name": "#%%\n"
    }
   }
  }
 ],
 "metadata": {
  "kernelspec": {
   "display_name": "Python 3",
   "language": "python",
   "name": "python3"
  },
  "language_info": {
   "codemirror_mode": {
    "name": "ipython",
    "version": 2
   },
   "file_extension": ".py",
   "mimetype": "text/x-python",
   "name": "python",
   "nbconvert_exporter": "python",
   "pygments_lexer": "ipython2",
   "version": "2.7.6"
  }
 },
 "nbformat": 4,
 "nbformat_minor": 0
}